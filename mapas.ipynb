{
 "cells": [
  {
   "cell_type": "markdown",
   "metadata": {},
   "source": [
    "# Mapas\n",
    "\n",
    "---\n",
    "Na aula de hoje, vamos trabalhar com **geoprocessamento**, que nada mais é do que a exibição de dados em mapas geográficos. Ná célula abaixo, vamos importar a biblioteca de geração de mapas geográficos. Para isso vamos fazer o uso da biblioteca **Folium**. Para instala-lá é necessário utilizar o comando `pip install folium`."
   ]
  },
  {
   "cell_type": "code",
   "execution_count": 2,
   "metadata": {},
   "outputs": [],
   "source": [
    "import folium"
   ]
  },
  {
   "cell_type": "markdown",
   "metadata": {},
   "source": [
    "Na próxima célula de código, vamos gerar um mapa e fazê-lo abrir na cidade de **Brasília - DF**."
   ]
  },
  {
   "cell_type": "code",
   "execution_count": null,
   "metadata": {},
   "outputs": [],
   "source": [
    "mapa = folium.Map(location = [-15.7834301996, -47.899], zoom_start= 13)\n",
    "display(mapa)"
   ]
  },
  {
   "cell_type": "markdown",
   "metadata": {},
   "source": [
    "Ná próxima célula de código vamos criar marcações de lugares."
   ]
  },
  {
   "cell_type": "code",
   "execution_count": null,
   "metadata": {},
   "outputs": [],
   "source": [
    "mapa = folium.Map(location = [-15.7834301996, -47.899], zoom_start= 15)\n",
    "folium.Marker(location = [-15.7948, -47.91319], popup = 'SENAI SIG.\\nOnde esta acontecendo o curso de Python Developer!').add_to(mapa)\n",
    "display(mapa)"
   ]
  },
  {
   "cell_type": "code",
   "execution_count": null,
   "metadata": {},
   "outputs": [],
   "source": [
    "mapa = folium.Map(location = [-15.86015, -48.07383], zoom_start=18)\n",
    "folium.Marker(location = [-15.86015, -48.07383], popup=\"CrossBow\", icon= folium.Icon(color = \"green\")).add_to(mapa)\n",
    "display(mapa)"
   ]
  },
  {
   "cell_type": "code",
   "execution_count": 6,
   "metadata": {},
   "outputs": [],
   "source": [
    "mapa.save(\"index.html\")"
   ]
  }
 ],
 "metadata": {
  "kernelspec": {
   "display_name": ".venv",
   "language": "python",
   "name": "python3"
  },
  "language_info": {
   "codemirror_mode": {
    "name": "ipython",
    "version": 3
   },
   "file_extension": ".py",
   "mimetype": "text/x-python",
   "name": "python",
   "nbconvert_exporter": "python",
   "pygments_lexer": "ipython3",
   "version": "3.12.5"
  }
 },
 "nbformat": 4,
 "nbformat_minor": 2
}
